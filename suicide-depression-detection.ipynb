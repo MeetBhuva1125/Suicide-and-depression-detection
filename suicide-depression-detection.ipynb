{
 "cells": [
  {
   "cell_type": "code",
   "execution_count": 1,
   "id": "0975c6b1",
   "metadata": {
    "execution": {
     "iopub.execute_input": "2024-08-18T11:59:46.418226Z",
     "iopub.status.busy": "2024-08-18T11:59:46.417886Z",
     "iopub.status.idle": "2024-08-18T11:59:59.085089Z",
     "shell.execute_reply": "2024-08-18T11:59:59.084225Z"
    },
    "papermill": {
     "duration": 12.682353,
     "end_time": "2024-08-18T11:59:59.087454",
     "exception": false,
     "start_time": "2024-08-18T11:59:46.405101",
     "status": "completed"
    },
    "tags": []
   },
   "outputs": [
    {
     "name": "stderr",
     "output_type": "stream",
     "text": [
      "2024-08-18 11:59:48.179661: E external/local_xla/xla/stream_executor/cuda/cuda_dnn.cc:9261] Unable to register cuDNN factory: Attempting to register factory for plugin cuDNN when one has already been registered\n",
      "2024-08-18 11:59:48.179764: E external/local_xla/xla/stream_executor/cuda/cuda_fft.cc:607] Unable to register cuFFT factory: Attempting to register factory for plugin cuFFT when one has already been registered\n",
      "2024-08-18 11:59:48.312967: E external/local_xla/xla/stream_executor/cuda/cuda_blas.cc:1515] Unable to register cuBLAS factory: Attempting to register factory for plugin cuBLAS when one has already been registered\n"
     ]
    }
   ],
   "source": [
    "import tensorflow as tf"
   ]
  },
  {
   "cell_type": "code",
   "execution_count": 2,
   "id": "f6b96132",
   "metadata": {
    "execution": {
     "iopub.execute_input": "2024-08-18T11:59:59.110675Z",
     "iopub.status.busy": "2024-08-18T11:59:59.109449Z",
     "iopub.status.idle": "2024-08-18T12:00:13.541985Z",
     "shell.execute_reply": "2024-08-18T12:00:13.540874Z"
    },
    "papermill": {
     "duration": 14.446176,
     "end_time": "2024-08-18T12:00:13.544523",
     "exception": false,
     "start_time": "2024-08-18T11:59:59.098347",
     "status": "completed"
    },
    "tags": []
   },
   "outputs": [
    {
     "name": "stderr",
     "output_type": "stream",
     "text": [
      "/opt/conda/lib/python3.10/pty.py:89: RuntimeWarning: os.fork() was called. os.fork() is incompatible with multithreaded code, and JAX is multithreaded, so this will likely lead to a deadlock.\n",
      "  pid, fd = os.forkpty()\n"
     ]
    },
    {
     "name": "stdout",
     "output_type": "stream",
     "text": [
      "Collecting neattext\r\n",
      "  Downloading neattext-0.1.3-py3-none-any.whl.metadata (12 kB)\r\n",
      "Downloading neattext-0.1.3-py3-none-any.whl (114 kB)\r\n",
      "\u001b[2K   \u001b[90m━━━━━━━━━━━━━━━━━━━━━━━━━━━━━━━━━━━━━━━━\u001b[0m \u001b[32m114.7/114.7 kB\u001b[0m \u001b[31m2.0 MB/s\u001b[0m eta \u001b[36m0:00:00\u001b[0m\r\n",
      "\u001b[?25hInstalling collected packages: neattext\r\n",
      "Successfully installed neattext-0.1.3\r\n"
     ]
    }
   ],
   "source": [
    "tf.config.list_physical_devices('GPU')\n",
    "# !pip install neattext"
   ]
  },
  {
   "cell_type": "code",
   "execution_count": 3,
   "id": "442602aa",
   "metadata": {
    "execution": {
     "iopub.execute_input": "2024-08-18T12:00:13.568313Z",
     "iopub.status.busy": "2024-08-18T12:00:13.567724Z",
     "iopub.status.idle": "2024-08-18T12:00:15.305034Z",
     "shell.execute_reply": "2024-08-18T12:00:15.304202Z"
    },
    "papermill": {
     "duration": 1.751603,
     "end_time": "2024-08-18T12:00:15.307408",
     "exception": false,
     "start_time": "2024-08-18T12:00:13.555805",
     "status": "completed"
    },
    "tags": []
   },
   "outputs": [],
   "source": [
    "import numpy as np \n",
    "import pandas as pd\n",
    "from sklearn.model_selection import train_test_split\n",
    "import neattext.functions as nfx\n",
    "import plotly.express as plx\n",
    "from sklearn.metrics import classification_report\n",
    "from tensorflow.keras.layers import Embedding,Dense,LSTM,GlobalMaxPooling1D,Input,Dropout,Bidirectional\n",
    "from tensorflow.keras.callbacks import EarlyStopping,ReduceLROnPlateau\n",
    "from tensorflow.keras.models import Sequential\n",
    "from sklearn.preprocessing import LabelEncoder\n",
    "from tensorflow.keras.preprocessing.text import Tokenizer\n",
    "from tensorflow.keras.preprocessing.sequence import pad_sequences\n",
    "from tensorflow.keras.optimizers import SGD,Adam\n",
    "from tqdm import tqdm"
   ]
  },
  {
   "cell_type": "code",
   "execution_count": 4,
   "id": "0448c061",
   "metadata": {
    "execution": {
     "iopub.execute_input": "2024-08-18T12:00:15.331487Z",
     "iopub.status.busy": "2024-08-18T12:00:15.331151Z",
     "iopub.status.idle": "2024-08-18T12:00:19.231666Z",
     "shell.execute_reply": "2024-08-18T12:00:19.230674Z"
    },
    "papermill": {
     "duration": 3.915237,
     "end_time": "2024-08-18T12:00:19.233693",
     "exception": false,
     "start_time": "2024-08-18T12:00:15.318456",
     "status": "completed"
    },
    "tags": []
   },
   "outputs": [
    {
     "data": {
      "text/html": [
       "<div>\n",
       "<style scoped>\n",
       "    .dataframe tbody tr th:only-of-type {\n",
       "        vertical-align: middle;\n",
       "    }\n",
       "\n",
       "    .dataframe tbody tr th {\n",
       "        vertical-align: top;\n",
       "    }\n",
       "\n",
       "    .dataframe thead th {\n",
       "        text-align: right;\n",
       "    }\n",
       "</style>\n",
       "<table border=\"1\" class=\"dataframe\">\n",
       "  <thead>\n",
       "    <tr style=\"text-align: right;\">\n",
       "      <th></th>\n",
       "      <th>Unnamed: 0</th>\n",
       "      <th>text</th>\n",
       "      <th>class</th>\n",
       "    </tr>\n",
       "  </thead>\n",
       "  <tbody>\n",
       "    <tr>\n",
       "      <th>0</th>\n",
       "      <td>2</td>\n",
       "      <td>Ex Wife Threatening SuicideRecently I left my ...</td>\n",
       "      <td>suicide</td>\n",
       "    </tr>\n",
       "    <tr>\n",
       "      <th>1</th>\n",
       "      <td>3</td>\n",
       "      <td>Am I weird I don't get affected by compliments...</td>\n",
       "      <td>non-suicide</td>\n",
       "    </tr>\n",
       "    <tr>\n",
       "      <th>2</th>\n",
       "      <td>4</td>\n",
       "      <td>Finally 2020 is almost over... So I can never ...</td>\n",
       "      <td>non-suicide</td>\n",
       "    </tr>\n",
       "    <tr>\n",
       "      <th>3</th>\n",
       "      <td>8</td>\n",
       "      <td>i need helpjust help me im crying so hard</td>\n",
       "      <td>suicide</td>\n",
       "    </tr>\n",
       "    <tr>\n",
       "      <th>4</th>\n",
       "      <td>9</td>\n",
       "      <td>I’m so lostHello, my name is Adam (16) and I’v...</td>\n",
       "      <td>suicide</td>\n",
       "    </tr>\n",
       "  </tbody>\n",
       "</table>\n",
       "</div>"
      ],
      "text/plain": [
       "   Unnamed: 0                                               text        class\n",
       "0           2  Ex Wife Threatening SuicideRecently I left my ...      suicide\n",
       "1           3  Am I weird I don't get affected by compliments...  non-suicide\n",
       "2           4  Finally 2020 is almost over... So I can never ...  non-suicide\n",
       "3           8          i need helpjust help me im crying so hard      suicide\n",
       "4           9  I’m so lostHello, my name is Adam (16) and I’v...      suicide"
      ]
     },
     "execution_count": 4,
     "metadata": {},
     "output_type": "execute_result"
    }
   ],
   "source": [
    "data=pd.read_csv('/kaggle/input/suicide-watch/Suicide_Detection.csv')\n",
    "data.head()"
   ]
  },
  {
   "cell_type": "code",
   "execution_count": 5,
   "id": "0abcb0d5",
   "metadata": {
    "execution": {
     "iopub.execute_input": "2024-08-18T12:00:19.257964Z",
     "iopub.status.busy": "2024-08-18T12:00:19.257589Z",
     "iopub.status.idle": "2024-08-18T12:00:19.300160Z",
     "shell.execute_reply": "2024-08-18T12:00:19.299199Z"
    },
    "papermill": {
     "duration": 0.05702,
     "end_time": "2024-08-18T12:00:19.302292",
     "exception": false,
     "start_time": "2024-08-18T12:00:19.245272",
     "status": "completed"
    },
    "tags": []
   },
   "outputs": [
    {
     "data": {
      "text/plain": [
       "class\n",
       "suicide        116037\n",
       "non-suicide    116037\n",
       "Name: count, dtype: int64"
      ]
     },
     "execution_count": 5,
     "metadata": {},
     "output_type": "execute_result"
    }
   ],
   "source": [
    "data['class'].value_counts()"
   ]
  },
  {
   "cell_type": "code",
   "execution_count": 6,
   "id": "84558310",
   "metadata": {
    "execution": {
     "iopub.execute_input": "2024-08-18T12:00:19.326799Z",
     "iopub.status.busy": "2024-08-18T12:00:19.325990Z",
     "iopub.status.idle": "2024-08-18T12:00:19.360475Z",
     "shell.execute_reply": "2024-08-18T12:00:19.359587Z"
    },
    "papermill": {
     "duration": 0.049076,
     "end_time": "2024-08-18T12:00:19.362531",
     "exception": false,
     "start_time": "2024-08-18T12:00:19.313455",
     "status": "completed"
    },
    "tags": []
   },
   "outputs": [
    {
     "data": {
      "text/plain": [
       "array(['suicide', 'non-suicide'], dtype=object)"
      ]
     },
     "execution_count": 6,
     "metadata": {},
     "output_type": "execute_result"
    }
   ],
   "source": [
    "data['class'].value_counts().index.values"
   ]
  },
  {
   "cell_type": "code",
   "execution_count": 7,
   "id": "a35c96cb",
   "metadata": {
    "execution": {
     "iopub.execute_input": "2024-08-18T12:00:19.388303Z",
     "iopub.status.busy": "2024-08-18T12:00:19.387561Z",
     "iopub.status.idle": "2024-08-18T12:00:19.426761Z",
     "shell.execute_reply": "2024-08-18T12:00:19.425833Z"
    },
    "papermill": {
     "duration": 0.054964,
     "end_time": "2024-08-18T12:00:19.429020",
     "exception": false,
     "start_time": "2024-08-18T12:00:19.374056",
     "status": "completed"
    },
    "tags": []
   },
   "outputs": [],
   "source": [
    "train_data,test_data=train_test_split(data,test_size=0.2,random_state=10)"
   ]
  },
  {
   "cell_type": "code",
   "execution_count": 8,
   "id": "a669da9a",
   "metadata": {
    "execution": {
     "iopub.execute_input": "2024-08-18T12:00:19.452812Z",
     "iopub.status.busy": "2024-08-18T12:00:19.452448Z",
     "iopub.status.idle": "2024-08-18T12:00:19.482765Z",
     "shell.execute_reply": "2024-08-18T12:00:19.481856Z"
    },
    "papermill": {
     "duration": 0.044371,
     "end_time": "2024-08-18T12:00:19.484808",
     "exception": false,
     "start_time": "2024-08-18T12:00:19.440437",
     "status": "completed"
    },
    "tags": []
   },
   "outputs": [
    {
     "data": {
      "text/plain": [
       "array(['suicide', 'non-suicide'], dtype=object)"
      ]
     },
     "execution_count": 8,
     "metadata": {},
     "output_type": "execute_result"
    }
   ],
   "source": [
    "train_data['class'].value_counts().index.values"
   ]
  },
  {
   "cell_type": "markdown",
   "id": "2547f112",
   "metadata": {
    "papermill": {
     "duration": 0.011885,
     "end_time": "2024-08-18T12:00:19.508339",
     "exception": false,
     "start_time": "2024-08-18T12:00:19.496454",
     "status": "completed"
    },
    "tags": []
   },
   "source": [
    "# **Data Visualisation**"
   ]
  },
  {
   "cell_type": "code",
   "execution_count": 9,
   "id": "f123a62b",
   "metadata": {
    "execution": {
     "iopub.execute_input": "2024-08-18T12:00:19.532656Z",
     "iopub.status.busy": "2024-08-18T12:00:19.532326Z",
     "iopub.status.idle": "2024-08-18T12:00:19.536432Z",
     "shell.execute_reply": "2024-08-18T12:00:19.535467Z"
    },
    "papermill": {
     "duration": 0.019018,
     "end_time": "2024-08-18T12:00:19.538743",
     "exception": false,
     "start_time": "2024-08-18T12:00:19.519725",
     "status": "completed"
    },
    "tags": []
   },
   "outputs": [],
   "source": [
    "import matplotlib.pyplot as plt\n",
    "\n",
    "# Get the class counts\n",
    "class_counts = train_data['class'].value_counts()\n",
    "\n",
    "# Create the bar chart\n",
    "plt.figure(figsize=(10, 6))\n",
    "class_counts.plot(kind='bar')\n",
    "\n",
    "# Customize the plot\n",
    "plt.title('Distribution of Classes in Training Data')\n",
    "plt.xlabel('Class')\n",
    "plt.ylabel('Number of Samples')\n",
    "plt.xticks(rotation=0)\n",
    "\n",
    "# Add value labels on top of each bar\n",
    "for i, v in enumerate(class_counts):\n",
    "    plt.text(i, v, str(v), ha='center', va='bottom')\n",
    "\n",
    "# Show the plot\n",
    "plt.tight_layout()\n",
    "plt.show()"
   ]
  },
  {
   "cell_type": "markdown",
   "id": "930c3dc5",
   "metadata": {
    "papermill": {
     "duration": 0.012661,
     "end_time": "2024-08-18T12:00:19.564397",
     "exception": false,
     "start_time": "2024-08-18T12:00:19.551736",
     "status": "completed"
    },
    "tags": []
   },
   "source": [
    "# **Data Cleaning**"
   ]
  },
  {
   "cell_type": "code",
   "execution_count": 10,
   "id": "17dcef2f",
   "metadata": {
    "execution": {
     "iopub.execute_input": "2024-08-18T12:00:19.588320Z",
     "iopub.status.busy": "2024-08-18T12:00:19.587696Z",
     "iopub.status.idle": "2024-08-18T12:00:19.593022Z",
     "shell.execute_reply": "2024-08-18T12:00:19.592187Z"
    },
    "papermill": {
     "duration": 0.019176,
     "end_time": "2024-08-18T12:00:19.594950",
     "exception": false,
     "start_time": "2024-08-18T12:00:19.575774",
     "status": "completed"
    },
    "tags": []
   },
   "outputs": [],
   "source": [
    "def clean_text(text):\n",
    "    text_length=[]\n",
    "    cleaned_text=[]\n",
    "    for sent in tqdm(text):\n",
    "        sent=sent.lower()\n",
    "        sent=nfx.remove_special_characters(sent)\n",
    "        sent=nfx.remove_stopwords(sent)\n",
    "        text_length.append(len(sent.split()))\n",
    "        cleaned_text.append(sent)\n",
    "    return cleaned_text,text_length"
   ]
  },
  {
   "cell_type": "code",
   "execution_count": 11,
   "id": "70c36999",
   "metadata": {
    "execution": {
     "iopub.execute_input": "2024-08-18T12:00:19.618902Z",
     "iopub.status.busy": "2024-08-18T12:00:19.618572Z",
     "iopub.status.idle": "2024-08-18T12:00:36.439664Z",
     "shell.execute_reply": "2024-08-18T12:00:36.438689Z"
    },
    "papermill": {
     "duration": 16.835809,
     "end_time": "2024-08-18T12:00:36.441852",
     "exception": false,
     "start_time": "2024-08-18T12:00:19.606043",
     "status": "completed"
    },
    "tags": []
   },
   "outputs": [
    {
     "name": "stderr",
     "output_type": "stream",
     "text": [
      "100%|██████████| 185659/185659 [00:13<00:00, 13846.73it/s]\n",
      "100%|██████████| 46415/46415 [00:03<00:00, 13642.87it/s]\n"
     ]
    }
   ],
   "source": [
    "cleaned_train_text,train_text_length=clean_text(train_data.text)\n",
    "cleaned_test_text,test_text_length=clean_text(test_data.text)"
   ]
  },
  {
   "cell_type": "code",
   "execution_count": 12,
   "id": "a021447e",
   "metadata": {
    "execution": {
     "iopub.execute_input": "2024-08-18T12:00:36.491740Z",
     "iopub.status.busy": "2024-08-18T12:00:36.491398Z",
     "iopub.status.idle": "2024-08-18T12:00:46.932077Z",
     "shell.execute_reply": "2024-08-18T12:00:46.931035Z"
    },
    "papermill": {
     "duration": 10.468614,
     "end_time": "2024-08-18T12:00:46.934715",
     "exception": false,
     "start_time": "2024-08-18T12:00:36.466101",
     "status": "completed"
    },
    "tags": []
   },
   "outputs": [],
   "source": [
    "tokenizer=Tokenizer()\n",
    "tokenizer.fit_on_texts(cleaned_train_text)"
   ]
  },
  {
   "cell_type": "code",
   "execution_count": 14,
   "id": "c39b1f0e",
   "metadata": {
    "execution": {
     "iopub.execute_input": "2024-08-18T12:00:47.041473Z",
     "iopub.status.busy": "2024-08-18T12:00:47.040988Z",
     "iopub.status.idle": "2024-08-18T12:00:57.386202Z",
     "shell.execute_reply": "2024-08-18T12:00:57.385319Z"
    },
    "papermill": {
     "duration": 10.372437,
     "end_time": "2024-08-18T12:00:57.388612",
     "exception": false,
     "start_time": "2024-08-18T12:00:47.016175",
     "status": "completed"
    },
    "tags": []
   },
   "outputs": [],
   "source": [
    "train_text_seq=tokenizer.texts_to_sequences(cleaned_train_text)\n",
    "train_text_pad=pad_sequences(train_text_seq,maxlen=100)\n",
    "\n",
    "\n",
    "test_text_seq=tokenizer.texts_to_sequences(cleaned_test_text)\n",
    "test_text_pad=pad_sequences(test_text_seq,maxlen=100)"
   ]
  },
  {
   "cell_type": "code",
   "execution_count": 15,
   "id": "3e732dc7",
   "metadata": {
    "execution": {
     "iopub.execute_input": "2024-08-18T12:00:57.438039Z",
     "iopub.status.busy": "2024-08-18T12:00:57.437752Z",
     "iopub.status.idle": "2024-08-18T12:00:57.443870Z",
     "shell.execute_reply": "2024-08-18T12:00:57.443009Z"
    },
    "papermill": {
     "duration": 0.032874,
     "end_time": "2024-08-18T12:00:57.445922",
     "exception": false,
     "start_time": "2024-08-18T12:00:57.413048",
     "status": "completed"
    },
    "tags": []
   },
   "outputs": [
    {
     "data": {
      "text/plain": [
       "array([[    0,     0,     0, ...,   176,  3027,     3],\n",
       "       [    0,     0,     0, ...,   163,   508,  1642],\n",
       "       [    0,     0,     0, ...,    77,   240,    96],\n",
       "       ...,\n",
       "       [    0,     0,     0, ...,   328,     2,     4],\n",
       "       [    0,     0,     0, ...,    65,    26,    16],\n",
       "       [16008,  1861,     4, ...,     2,     4,    16]], dtype=int32)"
      ]
     },
     "execution_count": 15,
     "metadata": {},
     "output_type": "execute_result"
    }
   ],
   "source": [
    "train_text_pad"
   ]
  },
  {
   "cell_type": "markdown",
   "id": "78575d5a",
   "metadata": {
    "papermill": {
     "duration": 0.023827,
     "end_time": "2024-08-18T12:00:57.494306",
     "exception": false,
     "start_time": "2024-08-18T12:00:57.470479",
     "status": "completed"
    },
    "tags": []
   },
   "source": [
    "# **Glove Embeddings**"
   ]
  },
  {
   "cell_type": "code",
   "execution_count": 16,
   "id": "dfd93150",
   "metadata": {
    "execution": {
     "iopub.execute_input": "2024-08-18T12:00:57.543041Z",
     "iopub.status.busy": "2024-08-18T12:00:57.542754Z",
     "iopub.status.idle": "2024-08-18T12:00:57.598477Z",
     "shell.execute_reply": "2024-08-18T12:00:57.597778Z"
    },
    "papermill": {
     "duration": 0.0823,
     "end_time": "2024-08-18T12:00:57.600324",
     "exception": false,
     "start_time": "2024-08-18T12:00:57.518024",
     "status": "completed"
    },
    "tags": []
   },
   "outputs": [],
   "source": [
    "lbl_target=LabelEncoder()\n",
    "train_output=lbl_target.fit_transform(train_data['class'])\n",
    "test_output=lbl_target.transform(test_data['class'])"
   ]
  },
  {
   "cell_type": "code",
   "execution_count": 17,
   "id": "b6dddad4",
   "metadata": {
    "execution": {
     "iopub.execute_input": "2024-08-18T12:00:57.649737Z",
     "iopub.status.busy": "2024-08-18T12:00:57.649442Z",
     "iopub.status.idle": "2024-08-18T12:01:29.862964Z",
     "shell.execute_reply": "2024-08-18T12:01:29.861909Z"
    },
    "papermill": {
     "duration": 32.240693,
     "end_time": "2024-08-18T12:01:29.865398",
     "exception": false,
     "start_time": "2024-08-18T12:00:57.624705",
     "status": "completed"
    },
    "tags": []
   },
   "outputs": [],
   "source": [
    "import pickle\n",
    "# try with different glove models\n",
    "with open('/kaggle/input/pickled-glove840b300d-for-10sec-loading/glove.840B.300d.pkl', 'rb') as fp:\n",
    "    glove_embedding = pickle.load(fp)\n",
    "\n",
    "# import numpy as np\n",
    "\n",
    "# def load_glove_model(file_path):\n",
    "#     print(\"Loading Glove Model\")\n",
    "#     glove_model = {}\n",
    "#     with open(file_path, 'r', encoding='utf-8') as f:\n",
    "#         for line in f:\n",
    "#             split_line = line.split()\n",
    "#             word = split_line[0]\n",
    "#             embedding = np.array(split_line[1:], dtype=np.float64)\n",
    "#             glove_model[word] = embedding\n",
    "#     print(f\"{len(glove_model)} words loaded!\")\n",
    "#     return glove_model\n",
    "\n",
    "# # Load the GloVe model\n",
    "# glove_file = '/kaggle/input/glove840b300dtxt/glove.840B.300d.txt'  # Replace with your GloVe file path\n",
    "# glove_embedding = load_glove_model(glove_file)\n",
    "\n",
    "# Create the embedding matrix\n",
    "v = len(tokenizer.word_index) + 1\n",
    "embedding_dim = 300  # Dimension of GloVe vectors, adjust if using a different dimension\n",
    "\n",
    "embedding_matrix = np.zeros((v+1, embedding_dim))\n",
    "for word, idx in tokenizer.word_index.items():\n",
    "    embedding_vector = glove_embedding.get(word)\n",
    "    if embedding_vector is not None:\n",
    "        embedding_matrix[idx] = embedding_vector"
   ]
  },
  {
   "cell_type": "code",
   "execution_count": 18,
   "id": "0bb890f1",
   "metadata": {
    "execution": {
     "iopub.execute_input": "2024-08-18T12:01:29.916304Z",
     "iopub.status.busy": "2024-08-18T12:01:29.915769Z",
     "iopub.status.idle": "2024-08-18T12:01:29.922490Z",
     "shell.execute_reply": "2024-08-18T12:01:29.921646Z"
    },
    "papermill": {
     "duration": 0.033963,
     "end_time": "2024-08-18T12:01:29.924370",
     "exception": false,
     "start_time": "2024-08-18T12:01:29.890407",
     "status": "completed"
    },
    "tags": []
   },
   "outputs": [
    {
     "data": {
      "text/plain": [
       "array([[ 0.        ,  0.        ,  0.        , ...,  0.        ,\n",
       "         0.        ,  0.        ],\n",
       "       [ 0.074482  ,  0.58293003, -0.78233999, ..., -0.24984001,\n",
       "        -0.096953  ,  0.66692001],\n",
       "       [-0.35394999,  0.23051   , -0.62689   , ..., -0.20720001,\n",
       "         0.52003002,  0.51129001],\n",
       "       ...,\n",
       "       [ 0.29547   , -0.21822999, -0.039817  , ...,  0.62642998,\n",
       "         0.48798001, -0.47554001],\n",
       "       [ 0.75085002, -0.35099   ,  0.37674999, ..., -0.066863  ,\n",
       "         0.79632998, -0.05967   ],\n",
       "       [ 0.        ,  0.        ,  0.        , ...,  0.        ,\n",
       "         0.        ,  0.        ]])"
      ]
     },
     "execution_count": 18,
     "metadata": {},
     "output_type": "execute_result"
    }
   ],
   "source": [
    "embedding_matrix"
   ]
  },
  {
   "cell_type": "code",
   "execution_count": 19,
   "id": "0e175094",
   "metadata": {
    "execution": {
     "iopub.execute_input": "2024-08-18T12:01:29.973543Z",
     "iopub.status.busy": "2024-08-18T12:01:29.973249Z",
     "iopub.status.idle": "2024-08-18T12:01:29.976918Z",
     "shell.execute_reply": "2024-08-18T12:01:29.976069Z"
    },
    "papermill": {
     "duration": 0.030403,
     "end_time": "2024-08-18T12:01:29.978804",
     "exception": false,
     "start_time": "2024-08-18T12:01:29.948401",
     "status": "completed"
    },
    "tags": []
   },
   "outputs": [],
   "source": [
    "# early_stop=EarlyStopping(patience=5)\n",
    "# reducelr=ReduceLROnPlateau(patience=3)"
   ]
  },
  {
   "cell_type": "code",
   "execution_count": null,
   "id": "f8affe8c",
   "metadata": {
    "papermill": {
     "duration": 0.023757,
     "end_time": "2024-08-18T12:01:30.026529",
     "exception": false,
     "start_time": "2024-08-18T12:01:30.002772",
     "status": "completed"
    },
    "tags": []
   },
   "outputs": [],
   "source": []
  },
  {
   "cell_type": "markdown",
   "id": "c63d3e9c",
   "metadata": {
    "papermill": {
     "duration": 0.023713,
     "end_time": "2024-08-18T12:01:30.074146",
     "exception": false,
     "start_time": "2024-08-18T12:01:30.050433",
     "status": "completed"
    },
    "tags": []
   },
   "source": [
    "# **Keras Sequential Model Construction**"
   ]
  },
  {
   "cell_type": "code",
   "execution_count": 20,
   "id": "9d38cd4a",
   "metadata": {
    "execution": {
     "iopub.execute_input": "2024-08-18T12:01:30.125164Z",
     "iopub.status.busy": "2024-08-18T12:01:30.124543Z",
     "iopub.status.idle": "2024-08-18T12:01:30.128889Z",
     "shell.execute_reply": "2024-08-18T12:01:30.128069Z"
    },
    "papermill": {
     "duration": 0.031742,
     "end_time": "2024-08-18T12:01:30.130814",
     "exception": false,
     "start_time": "2024-08-18T12:01:30.099072",
     "status": "completed"
    },
    "tags": []
   },
   "outputs": [],
   "source": [
    "# model=Sequential()\n",
    "# model.add(Input(shape=(50,)))\n",
    "# # change the weight shape as per the dimensions\n",
    "# model.add(Embedding(v+1,50,weights=[embedding_matrix],trainable=False))\n",
    "# model.add(LSTM(units=64, input_shape=(50,), unroll=True, use_bias=True, recurrent_activation='sigmoid', return_sequences=True))\n",
    "# model.add(GlobalMaxPooling1D())\n",
    "# model.add(Dense(256,activation='relu'))\n",
    "# model.add(Dropout(0.5))\n",
    "# model.add(Dense(1,activation='sigmoid'))\n",
    "# optimizer = Adam(learning_rate=0.001)\n",
    "# model.compile(optimizer=optimizer, loss='binary_crossentropy', metrics=['accuracy'])\n",
    "\n",
    "# # model.compile(optimizer=SGD(0.1,momentum=0.09),loss='binary_crossentropy',metrics=['accuracy'])"
   ]
  },
  {
   "cell_type": "code",
   "execution_count": 21,
   "id": "0ab621b4",
   "metadata": {
    "execution": {
     "iopub.execute_input": "2024-08-18T12:01:30.223684Z",
     "iopub.status.busy": "2024-08-18T12:01:30.223304Z",
     "iopub.status.idle": "2024-08-18T12:01:32.022288Z",
     "shell.execute_reply": "2024-08-18T12:01:32.021447Z"
    },
    "papermill": {
     "duration": 1.826627,
     "end_time": "2024-08-18T12:01:32.024623",
     "exception": false,
     "start_time": "2024-08-18T12:01:30.197996",
     "status": "completed"
    },
    "tags": []
   },
   "outputs": [],
   "source": [
    "early_stop = EarlyStopping(patience=5, restore_best_weights=True)\n",
    "reducelr = ReduceLROnPlateau(patience=3, factor=0.5, min_lr=1e-5)\n",
    "\n",
    "model = Sequential([\n",
    "    Input(shape=(300,)),\n",
    "    Embedding(v+1, 300, weights=[embedding_matrix], trainable=False),\n",
    "    Bidirectional(LSTM(64, return_sequences=True)),\n",
    "    GlobalMaxPooling1D(),\n",
    "    Dense(128, activation='relu'),\n",
    "    Dropout(0.3),\n",
    "    Dense(64, activation='relu'),\n",
    "    Dropout(0.2),\n",
    "    Dense(1, activation='sigmoid')\n",
    "])\n",
    "\n",
    "optimizer = Adam(learning_rate=0.001)\n",
    "model.compile(optimizer=optimizer, loss='binary_crossentropy', metrics=['accuracy', 'AUC'])\n"
   ]
  },
  {
   "cell_type": "code",
   "execution_count": 22,
   "id": "a19d8773",
   "metadata": {
    "execution": {
     "iopub.execute_input": "2024-08-18T12:01:32.075324Z",
     "iopub.status.busy": "2024-08-18T12:01:32.074987Z",
     "iopub.status.idle": "2024-08-18T12:01:32.098437Z",
     "shell.execute_reply": "2024-08-18T12:01:32.097565Z"
    },
    "papermill": {
     "duration": 0.051002,
     "end_time": "2024-08-18T12:01:32.100354",
     "exception": false,
     "start_time": "2024-08-18T12:01:32.049352",
     "status": "completed"
    },
    "tags": []
   },
   "outputs": [
    {
     "data": {
      "text/html": [
       "<pre style=\"white-space:pre;overflow-x:auto;line-height:normal;font-family:Menlo,'DejaVu Sans Mono',consolas,'Courier New',monospace\"><span style=\"font-weight: bold\">Model: \"sequential\"</span>\n",
       "</pre>\n"
      ],
      "text/plain": [
       "\u001b[1mModel: \"sequential\"\u001b[0m\n"
      ]
     },
     "metadata": {},
     "output_type": "display_data"
    },
    {
     "data": {
      "text/html": [
       "<pre style=\"white-space:pre;overflow-x:auto;line-height:normal;font-family:Menlo,'DejaVu Sans Mono',consolas,'Courier New',monospace\">┏━━━━━━━━━━━━━━━━━━━━━━━━━━━━━━━━━┳━━━━━━━━━━━━━━━━━━━━━━━━┳━━━━━━━━━━━━━━━┓\n",
       "┃<span style=\"font-weight: bold\"> Layer (type)                    </span>┃<span style=\"font-weight: bold\"> Output Shape           </span>┃<span style=\"font-weight: bold\">       Param # </span>┃\n",
       "┡━━━━━━━━━━━━━━━━━━━━━━━━━━━━━━━━━╇━━━━━━━━━━━━━━━━━━━━━━━━╇━━━━━━━━━━━━━━━┩\n",
       "│ embedding (<span style=\"color: #0087ff; text-decoration-color: #0087ff\">Embedding</span>)           │ (<span style=\"color: #00d7ff; text-decoration-color: #00d7ff\">None</span>, <span style=\"color: #00af00; text-decoration-color: #00af00\">300</span>, <span style=\"color: #00af00; text-decoration-color: #00af00\">300</span>)       │    <span style=\"color: #00af00; text-decoration-color: #00af00\">81,561,000</span> │\n",
       "├─────────────────────────────────┼────────────────────────┼───────────────┤\n",
       "│ bidirectional (<span style=\"color: #0087ff; text-decoration-color: #0087ff\">Bidirectional</span>)   │ (<span style=\"color: #00d7ff; text-decoration-color: #00d7ff\">None</span>, <span style=\"color: #00af00; text-decoration-color: #00af00\">300</span>, <span style=\"color: #00af00; text-decoration-color: #00af00\">128</span>)       │       <span style=\"color: #00af00; text-decoration-color: #00af00\">186,880</span> │\n",
       "├─────────────────────────────────┼────────────────────────┼───────────────┤\n",
       "│ global_max_pooling1d            │ (<span style=\"color: #00d7ff; text-decoration-color: #00d7ff\">None</span>, <span style=\"color: #00af00; text-decoration-color: #00af00\">128</span>)            │             <span style=\"color: #00af00; text-decoration-color: #00af00\">0</span> │\n",
       "│ (<span style=\"color: #0087ff; text-decoration-color: #0087ff\">GlobalMaxPooling1D</span>)            │                        │               │\n",
       "├─────────────────────────────────┼────────────────────────┼───────────────┤\n",
       "│ dense (<span style=\"color: #0087ff; text-decoration-color: #0087ff\">Dense</span>)                   │ (<span style=\"color: #00d7ff; text-decoration-color: #00d7ff\">None</span>, <span style=\"color: #00af00; text-decoration-color: #00af00\">128</span>)            │        <span style=\"color: #00af00; text-decoration-color: #00af00\">16,512</span> │\n",
       "├─────────────────────────────────┼────────────────────────┼───────────────┤\n",
       "│ dropout (<span style=\"color: #0087ff; text-decoration-color: #0087ff\">Dropout</span>)               │ (<span style=\"color: #00d7ff; text-decoration-color: #00d7ff\">None</span>, <span style=\"color: #00af00; text-decoration-color: #00af00\">128</span>)            │             <span style=\"color: #00af00; text-decoration-color: #00af00\">0</span> │\n",
       "├─────────────────────────────────┼────────────────────────┼───────────────┤\n",
       "│ dense_1 (<span style=\"color: #0087ff; text-decoration-color: #0087ff\">Dense</span>)                 │ (<span style=\"color: #00d7ff; text-decoration-color: #00d7ff\">None</span>, <span style=\"color: #00af00; text-decoration-color: #00af00\">64</span>)             │         <span style=\"color: #00af00; text-decoration-color: #00af00\">8,256</span> │\n",
       "├─────────────────────────────────┼────────────────────────┼───────────────┤\n",
       "│ dropout_1 (<span style=\"color: #0087ff; text-decoration-color: #0087ff\">Dropout</span>)             │ (<span style=\"color: #00d7ff; text-decoration-color: #00d7ff\">None</span>, <span style=\"color: #00af00; text-decoration-color: #00af00\">64</span>)             │             <span style=\"color: #00af00; text-decoration-color: #00af00\">0</span> │\n",
       "├─────────────────────────────────┼────────────────────────┼───────────────┤\n",
       "│ dense_2 (<span style=\"color: #0087ff; text-decoration-color: #0087ff\">Dense</span>)                 │ (<span style=\"color: #00d7ff; text-decoration-color: #00d7ff\">None</span>, <span style=\"color: #00af00; text-decoration-color: #00af00\">1</span>)              │            <span style=\"color: #00af00; text-decoration-color: #00af00\">65</span> │\n",
       "└─────────────────────────────────┴────────────────────────┴───────────────┘\n",
       "</pre>\n"
      ],
      "text/plain": [
       "┏━━━━━━━━━━━━━━━━━━━━━━━━━━━━━━━━━┳━━━━━━━━━━━━━━━━━━━━━━━━┳━━━━━━━━━━━━━━━┓\n",
       "┃\u001b[1m \u001b[0m\u001b[1mLayer (type)                   \u001b[0m\u001b[1m \u001b[0m┃\u001b[1m \u001b[0m\u001b[1mOutput Shape          \u001b[0m\u001b[1m \u001b[0m┃\u001b[1m \u001b[0m\u001b[1m      Param #\u001b[0m\u001b[1m \u001b[0m┃\n",
       "┡━━━━━━━━━━━━━━━━━━━━━━━━━━━━━━━━━╇━━━━━━━━━━━━━━━━━━━━━━━━╇━━━━━━━━━━━━━━━┩\n",
       "│ embedding (\u001b[38;5;33mEmbedding\u001b[0m)           │ (\u001b[38;5;45mNone\u001b[0m, \u001b[38;5;34m300\u001b[0m, \u001b[38;5;34m300\u001b[0m)       │    \u001b[38;5;34m81,561,000\u001b[0m │\n",
       "├─────────────────────────────────┼────────────────────────┼───────────────┤\n",
       "│ bidirectional (\u001b[38;5;33mBidirectional\u001b[0m)   │ (\u001b[38;5;45mNone\u001b[0m, \u001b[38;5;34m300\u001b[0m, \u001b[38;5;34m128\u001b[0m)       │       \u001b[38;5;34m186,880\u001b[0m │\n",
       "├─────────────────────────────────┼────────────────────────┼───────────────┤\n",
       "│ global_max_pooling1d            │ (\u001b[38;5;45mNone\u001b[0m, \u001b[38;5;34m128\u001b[0m)            │             \u001b[38;5;34m0\u001b[0m │\n",
       "│ (\u001b[38;5;33mGlobalMaxPooling1D\u001b[0m)            │                        │               │\n",
       "├─────────────────────────────────┼────────────────────────┼───────────────┤\n",
       "│ dense (\u001b[38;5;33mDense\u001b[0m)                   │ (\u001b[38;5;45mNone\u001b[0m, \u001b[38;5;34m128\u001b[0m)            │        \u001b[38;5;34m16,512\u001b[0m │\n",
       "├─────────────────────────────────┼────────────────────────┼───────────────┤\n",
       "│ dropout (\u001b[38;5;33mDropout\u001b[0m)               │ (\u001b[38;5;45mNone\u001b[0m, \u001b[38;5;34m128\u001b[0m)            │             \u001b[38;5;34m0\u001b[0m │\n",
       "├─────────────────────────────────┼────────────────────────┼───────────────┤\n",
       "│ dense_1 (\u001b[38;5;33mDense\u001b[0m)                 │ (\u001b[38;5;45mNone\u001b[0m, \u001b[38;5;34m64\u001b[0m)             │         \u001b[38;5;34m8,256\u001b[0m │\n",
       "├─────────────────────────────────┼────────────────────────┼───────────────┤\n",
       "│ dropout_1 (\u001b[38;5;33mDropout\u001b[0m)             │ (\u001b[38;5;45mNone\u001b[0m, \u001b[38;5;34m64\u001b[0m)             │             \u001b[38;5;34m0\u001b[0m │\n",
       "├─────────────────────────────────┼────────────────────────┼───────────────┤\n",
       "│ dense_2 (\u001b[38;5;33mDense\u001b[0m)                 │ (\u001b[38;5;45mNone\u001b[0m, \u001b[38;5;34m1\u001b[0m)              │            \u001b[38;5;34m65\u001b[0m │\n",
       "└─────────────────────────────────┴────────────────────────┴───────────────┘\n"
      ]
     },
     "metadata": {},
     "output_type": "display_data"
    },
    {
     "data": {
      "text/html": [
       "<pre style=\"white-space:pre;overflow-x:auto;line-height:normal;font-family:Menlo,'DejaVu Sans Mono',consolas,'Courier New',monospace\"><span style=\"font-weight: bold\"> Total params: </span><span style=\"color: #00af00; text-decoration-color: #00af00\">81,772,713</span> (311.94 MB)\n",
       "</pre>\n"
      ],
      "text/plain": [
       "\u001b[1m Total params: \u001b[0m\u001b[38;5;34m81,772,713\u001b[0m (311.94 MB)\n"
      ]
     },
     "metadata": {},
     "output_type": "display_data"
    },
    {
     "data": {
      "text/html": [
       "<pre style=\"white-space:pre;overflow-x:auto;line-height:normal;font-family:Menlo,'DejaVu Sans Mono',consolas,'Courier New',monospace\"><span style=\"font-weight: bold\"> Trainable params: </span><span style=\"color: #00af00; text-decoration-color: #00af00\">211,713</span> (827.00 KB)\n",
       "</pre>\n"
      ],
      "text/plain": [
       "\u001b[1m Trainable params: \u001b[0m\u001b[38;5;34m211,713\u001b[0m (827.00 KB)\n"
      ]
     },
     "metadata": {},
     "output_type": "display_data"
    },
    {
     "data": {
      "text/html": [
       "<pre style=\"white-space:pre;overflow-x:auto;line-height:normal;font-family:Menlo,'DejaVu Sans Mono',consolas,'Courier New',monospace\"><span style=\"font-weight: bold\"> Non-trainable params: </span><span style=\"color: #00af00; text-decoration-color: #00af00\">81,561,000</span> (311.13 MB)\n",
       "</pre>\n"
      ],
      "text/plain": [
       "\u001b[1m Non-trainable params: \u001b[0m\u001b[38;5;34m81,561,000\u001b[0m (311.13 MB)\n"
      ]
     },
     "metadata": {},
     "output_type": "display_data"
    }
   ],
   "source": [
    "model.summary()"
   ]
  },
  {
   "cell_type": "markdown",
   "id": "816fef5c",
   "metadata": {
    "papermill": {
     "duration": 0.025393,
     "end_time": "2024-08-18T12:01:32.152436",
     "exception": false,
     "start_time": "2024-08-18T12:01:32.127043",
     "status": "completed"
    },
    "tags": []
   },
   "source": [
    "# **Model Training and Evaluation**"
   ]
  },
  {
   "cell_type": "code",
   "execution_count": 23,
   "id": "7ff9fa2c",
   "metadata": {
    "execution": {
     "iopub.execute_input": "2024-08-18T12:01:32.204688Z",
     "iopub.status.busy": "2024-08-18T12:01:32.203911Z",
     "iopub.status.idle": "2024-08-18T12:03:39.530157Z",
     "shell.execute_reply": "2024-08-18T12:03:39.529062Z"
    },
    "papermill": {
     "duration": 127.354875,
     "end_time": "2024-08-18T12:03:39.532729",
     "exception": false,
     "start_time": "2024-08-18T12:01:32.177854",
     "status": "completed"
    },
    "tags": []
   },
   "outputs": [
    {
     "name": "stdout",
     "output_type": "stream",
     "text": [
      "Epoch 1/50\n",
      "\u001b[1m182/182\u001b[0m \u001b[32m━━━━━━━━━━━━━━━━━━━━\u001b[0m\u001b[37m\u001b[0m \u001b[1m20s\u001b[0m 71ms/step - AUC: 0.9164 - accuracy: 0.8341 - loss: 0.3523 - val_AUC: 0.9778 - val_accuracy: 0.9272 - val_loss: 0.1892 - learning_rate: 0.0010\n",
      "Epoch 2/50\n",
      "\u001b[1m182/182\u001b[0m \u001b[32m━━━━━━━━━━━━━━━━━━━━\u001b[0m\u001b[37m\u001b[0m \u001b[1m12s\u001b[0m 66ms/step - AUC: 0.9786 - accuracy: 0.9308 - loss: 0.1835 - val_AUC: 0.9824 - val_accuracy: 0.9353 - val_loss: 0.1698 - learning_rate: 0.0010\n",
      "Epoch 3/50\n",
      "\u001b[1m182/182\u001b[0m \u001b[32m━━━━━━━━━━━━━━━━━━━━\u001b[0m\u001b[37m\u001b[0m \u001b[1m12s\u001b[0m 65ms/step - AUC: 0.9847 - accuracy: 0.9424 - loss: 0.1535 - val_AUC: 0.9847 - val_accuracy: 0.9340 - val_loss: 0.1748 - learning_rate: 0.0010\n",
      "Epoch 4/50\n",
      "\u001b[1m182/182\u001b[0m \u001b[32m━━━━━━━━━━━━━━━━━━━━\u001b[0m\u001b[37m\u001b[0m \u001b[1m12s\u001b[0m 66ms/step - AUC: 0.9891 - accuracy: 0.9532 - loss: 0.1286 - val_AUC: 0.9861 - val_accuracy: 0.9443 - val_loss: 0.1498 - learning_rate: 0.0010\n",
      "Epoch 5/50\n",
      "\u001b[1m182/182\u001b[0m \u001b[32m━━━━━━━━━━━━━━━━━━━━\u001b[0m\u001b[37m\u001b[0m \u001b[1m12s\u001b[0m 67ms/step - AUC: 0.9921 - accuracy: 0.9603 - loss: 0.1084 - val_AUC: 0.9866 - val_accuracy: 0.9457 - val_loss: 0.1478 - learning_rate: 0.0010\n",
      "Epoch 6/50\n",
      "\u001b[1m182/182\u001b[0m \u001b[32m━━━━━━━━━━━━━━━━━━━━\u001b[0m\u001b[37m\u001b[0m \u001b[1m12s\u001b[0m 64ms/step - AUC: 0.9940 - accuracy: 0.9666 - loss: 0.0925 - val_AUC: 0.9862 - val_accuracy: 0.9436 - val_loss: 0.1578 - learning_rate: 0.0010\n",
      "Epoch 7/50\n",
      "\u001b[1m182/182\u001b[0m \u001b[32m━━━━━━━━━━━━━━━━━━━━\u001b[0m\u001b[37m\u001b[0m \u001b[1m12s\u001b[0m 65ms/step - AUC: 0.9953 - accuracy: 0.9711 - loss: 0.0799 - val_AUC: 0.9848 - val_accuracy: 0.9409 - val_loss: 0.1728 - learning_rate: 0.0010\n",
      "Epoch 8/50\n",
      "\u001b[1m182/182\u001b[0m \u001b[32m━━━━━━━━━━━━━━━━━━━━\u001b[0m\u001b[37m\u001b[0m \u001b[1m12s\u001b[0m 65ms/step - AUC: 0.9964 - accuracy: 0.9747 - loss: 0.0701 - val_AUC: 0.9819 - val_accuracy: 0.9374 - val_loss: 0.2070 - learning_rate: 0.0010\n",
      "Epoch 9/50\n",
      "\u001b[1m182/182\u001b[0m \u001b[32m━━━━━━━━━━━━━━━━━━━━\u001b[0m\u001b[37m\u001b[0m \u001b[1m12s\u001b[0m 64ms/step - AUC: 0.9975 - accuracy: 0.9812 - loss: 0.0556 - val_AUC: 0.9826 - val_accuracy: 0.9433 - val_loss: 0.1853 - learning_rate: 5.0000e-04\n",
      "Epoch 10/50\n",
      "\u001b[1m182/182\u001b[0m \u001b[32m━━━━━━━━━━━━━━━━━━━━\u001b[0m\u001b[37m\u001b[0m \u001b[1m12s\u001b[0m 64ms/step - AUC: 0.9982 - accuracy: 0.9844 - loss: 0.0464 - val_AUC: 0.9814 - val_accuracy: 0.9424 - val_loss: 0.1973 - learning_rate: 5.0000e-04\n"
     ]
    }
   ],
   "source": [
    "r = model.fit(train_text_pad, train_output,\n",
    "              validation_data=(test_text_pad, test_output),\n",
    "              epochs=50,\n",
    "              batch_size=1024,\n",
    "              callbacks=[early_stop, reducelr])"
   ]
  },
  {
   "cell_type": "code",
   "execution_count": 24,
   "id": "533b66c3",
   "metadata": {
    "_kg_hide-output": false,
    "execution": {
     "iopub.execute_input": "2024-08-18T12:03:39.875989Z",
     "iopub.status.busy": "2024-08-18T12:03:39.875251Z",
     "iopub.status.idle": "2024-08-18T12:03:39.879525Z",
     "shell.execute_reply": "2024-08-18T12:03:39.878655Z"
    },
    "papermill": {
     "duration": 0.176886,
     "end_time": "2024-08-18T12:03:39.881524",
     "exception": false,
     "start_time": "2024-08-18T12:03:39.704638",
     "status": "completed"
    },
    "tags": []
   },
   "outputs": [],
   "source": [
    "# r=model.fit(train_text_pad,train_output,validation_data=(test_text_pad,test_output),\n",
    "#             epochs=35,batch_size=2048,callbacks=[early_stop,reducelr])\n",
    "# increasing the batch size is showing less increase in accuracy in each epochs but significantly less times so increase the epochs"
   ]
  },
  {
   "cell_type": "code",
   "execution_count": 25,
   "id": "8dcdb8d5",
   "metadata": {
    "execution": {
     "iopub.execute_input": "2024-08-18T12:03:40.223751Z",
     "iopub.status.busy": "2024-08-18T12:03:40.223356Z",
     "iopub.status.idle": "2024-08-18T12:04:16.101248Z",
     "shell.execute_reply": "2024-08-18T12:04:16.100185Z"
    },
    "papermill": {
     "duration": 36.051667,
     "end_time": "2024-08-18T12:04:16.103814",
     "exception": false,
     "start_time": "2024-08-18T12:03:40.052147",
     "status": "completed"
    },
    "tags": []
   },
   "outputs": [
    {
     "name": "stdout",
     "output_type": "stream",
     "text": [
      "\u001b[1m1451/1451\u001b[0m \u001b[32m━━━━━━━━━━━━━━━━━━━━\u001b[0m\u001b[37m\u001b[0m \u001b[1m7s\u001b[0m 4ms/step\n",
      "TESTING DATA CLASSIFICATION REPORT \n",
      " \n",
      "\n",
      "              precision    recall  f1-score   support\n",
      "\n",
      " non-suicide       0.94      0.95      0.95     23209\n",
      "     suicide       0.95      0.94      0.95     23206\n",
      "\n",
      "    accuracy                           0.95     46415\n",
      "   macro avg       0.95      0.95      0.95     46415\n",
      "weighted avg       0.95      0.95      0.95     46415\n",
      "\n",
      "TRAINING DATA CLASSIFICATION REPORT \n",
      " \n",
      "\n",
      "\u001b[1m5802/5802\u001b[0m \u001b[32m━━━━━━━━━━━━━━━━━━━━\u001b[0m\u001b[37m\u001b[0m \u001b[1m24s\u001b[0m 4ms/step\n",
      "              precision    recall  f1-score   support\n",
      "\n",
      " non-suicide       0.98      0.96      0.97     92828\n",
      "     suicide       0.96      0.98      0.97     92831\n",
      "\n",
      "    accuracy                           0.97    185659\n",
      "   macro avg       0.97      0.97      0.97    185659\n",
      "weighted avg       0.97      0.97      0.97    185659\n",
      "\n"
     ]
    }
   ],
   "source": [
    "y_pred = (model.predict(test_text_pad) > 0.5).astype(\"int32\")\n",
    "print('TESTING DATA CLASSIFICATION REPORT \\n \\n')\n",
    "print(classification_report(test_output, y_pred,\n",
    "                            target_names=lbl_target.inverse_transform([0,1])))\n",
    "\n",
    "print('TRAINING DATA CLASSIFICATION REPORT \\n \\n')\n",
    "y_pred_train = (model.predict(train_text_pad) > 0.5).astype(\"int32\")\n",
    "print(classification_report(train_output, y_pred_train,\n",
    "                           target_names=lbl_target.inverse_transform([0,1])))"
   ]
  },
  {
   "cell_type": "code",
   "execution_count": 26,
   "id": "3cbcc5b0",
   "metadata": {
    "execution": {
     "iopub.execute_input": "2024-08-18T12:04:16.542754Z",
     "iopub.status.busy": "2024-08-18T12:04:16.542376Z",
     "iopub.status.idle": "2024-08-18T12:04:16.546734Z",
     "shell.execute_reply": "2024-08-18T12:04:16.545846Z"
    },
    "papermill": {
     "duration": 0.225516,
     "end_time": "2024-08-18T12:04:16.548785",
     "exception": false,
     "start_time": "2024-08-18T12:04:16.323269",
     "status": "completed"
    },
    "tags": []
   },
   "outputs": [],
   "source": [
    "import pickle"
   ]
  },
  {
   "cell_type": "code",
   "execution_count": 27,
   "id": "809951ae",
   "metadata": {
    "execution": {
     "iopub.execute_input": "2024-08-18T12:04:16.989479Z",
     "iopub.status.busy": "2024-08-18T12:04:16.988743Z",
     "iopub.status.idle": "2024-08-18T12:04:17.064149Z",
     "shell.execute_reply": "2024-08-18T12:04:17.063180Z"
    },
    "papermill": {
     "duration": 0.298269,
     "end_time": "2024-08-18T12:04:17.066232",
     "exception": false,
     "start_time": "2024-08-18T12:04:16.767963",
     "status": "completed"
    },
    "tags": []
   },
   "outputs": [
    {
     "name": "stdout",
     "output_type": "stream",
     "text": [
      "\u001b[1m1/1\u001b[0m \u001b[32m━━━━━━━━━━━━━━━━━━━━\u001b[0m\u001b[37m\u001b[0m \u001b[1m0s\u001b[0m 24ms/step\n",
      "0.37726602\n",
      "Non Suicide Post\n"
     ]
    }
   ],
   "source": [
    "twt = ['i am happy']\n",
    "twt = tokenizer.texts_to_sequences(twt)\n",
    "twt = pad_sequences(twt, maxlen=100)\n",
    "\n",
    "prediction = model.predict(twt)[0][0]\n",
    "print(prediction)\n",
    "\n",
    "if(prediction > 0.5):\n",
    "    print(\"Potential Suicide Post\")\n",
    "else:\n",
    "    print(\"Non Suicide Post\")"
   ]
  },
  {
   "cell_type": "code",
   "execution_count": 28,
   "id": "d8a5a6fd",
   "metadata": {
    "execution": {
     "iopub.execute_input": "2024-08-18T12:04:17.502348Z",
     "iopub.status.busy": "2024-08-18T12:04:17.501975Z",
     "iopub.status.idle": "2024-08-18T12:04:17.805296Z",
     "shell.execute_reply": "2024-08-18T12:04:17.804364Z"
    },
    "papermill": {
     "duration": 0.523404,
     "end_time": "2024-08-18T12:04:17.807606",
     "exception": false,
     "start_time": "2024-08-18T12:04:17.284202",
     "status": "completed"
    },
    "tags": []
   },
   "outputs": [],
   "source": [
    "pickle.dump(tokenizer, open('tokenizer.pkl', 'wb'))"
   ]
  },
  {
   "cell_type": "code",
   "execution_count": 29,
   "id": "42e5e18e",
   "metadata": {
    "execution": {
     "iopub.execute_input": "2024-08-18T12:04:18.245547Z",
     "iopub.status.busy": "2024-08-18T12:04:18.244887Z",
     "iopub.status.idle": "2024-08-18T12:04:19.039500Z",
     "shell.execute_reply": "2024-08-18T12:04:19.038525Z"
    },
    "papermill": {
     "duration": 1.015171,
     "end_time": "2024-08-18T12:04:19.041818",
     "exception": false,
     "start_time": "2024-08-18T12:04:18.026647",
     "status": "completed"
    },
    "tags": []
   },
   "outputs": [],
   "source": [
    "model.save(\"model_840b_300d.h5\")"
   ]
  },
  {
   "cell_type": "code",
   "execution_count": 30,
   "id": "c2f7f2e1",
   "metadata": {
    "execution": {
     "iopub.execute_input": "2024-08-18T12:04:19.524201Z",
     "iopub.status.busy": "2024-08-18T12:04:19.523444Z",
     "iopub.status.idle": "2024-08-18T12:04:19.847809Z",
     "shell.execute_reply": "2024-08-18T12:04:19.846790Z"
    },
    "papermill": {
     "duration": 0.589725,
     "end_time": "2024-08-18T12:04:19.850176",
     "exception": false,
     "start_time": "2024-08-18T12:04:19.260451",
     "status": "completed"
    },
    "tags": []
   },
   "outputs": [],
   "source": [
    "token_form = pickle.load(open('tokenizer.pkl', 'rb'))"
   ]
  },
  {
   "cell_type": "code",
   "execution_count": 31,
   "id": "0304bd0b",
   "metadata": {
    "execution": {
     "iopub.execute_input": "2024-08-18T12:04:20.287180Z",
     "iopub.status.busy": "2024-08-18T12:04:20.286481Z",
     "iopub.status.idle": "2024-08-18T12:04:20.290863Z",
     "shell.execute_reply": "2024-08-18T12:04:20.289996Z"
    },
    "papermill": {
     "duration": 0.224061,
     "end_time": "2024-08-18T12:04:20.292888",
     "exception": false,
     "start_time": "2024-08-18T12:04:20.068827",
     "status": "completed"
    },
    "tags": []
   },
   "outputs": [],
   "source": [
    "from tensorflow.keras.models import load_model"
   ]
  },
  {
   "cell_type": "code",
   "execution_count": 32,
   "id": "bdeed830",
   "metadata": {
    "execution": {
     "iopub.execute_input": "2024-08-18T12:04:20.728650Z",
     "iopub.status.busy": "2024-08-18T12:04:20.728132Z",
     "iopub.status.idle": "2024-08-18T12:04:21.537251Z",
     "shell.execute_reply": "2024-08-18T12:04:21.536302Z"
    },
    "papermill": {
     "duration": 1.030623,
     "end_time": "2024-08-18T12:04:21.539570",
     "exception": false,
     "start_time": "2024-08-18T12:04:20.508947",
     "status": "completed"
    },
    "tags": []
   },
   "outputs": [],
   "source": [
    "model_form = load_model(\"/kaggle/working/model_840b_300d.h5\")"
   ]
  },
  {
   "cell_type": "code",
   "execution_count": 33,
   "id": "82a7dc53",
   "metadata": {
    "execution": {
     "iopub.execute_input": "2024-08-18T12:04:22.006737Z",
     "iopub.status.busy": "2024-08-18T12:04:22.005492Z",
     "iopub.status.idle": "2024-08-18T12:04:22.265504Z",
     "shell.execute_reply": "2024-08-18T12:04:22.264651Z"
    },
    "papermill": {
     "duration": 0.506823,
     "end_time": "2024-08-18T12:04:22.267416",
     "exception": false,
     "start_time": "2024-08-18T12:04:21.760593",
     "status": "completed"
    },
    "tags": []
   },
   "outputs": [
    {
     "name": "stdout",
     "output_type": "stream",
     "text": [
      "\u001b[1m1/1\u001b[0m \u001b[32m━━━━━━━━━━━━━━━━━━━━\u001b[0m\u001b[37m\u001b[0m \u001b[1m0s\u001b[0m 197ms/step\n",
      "0.9706215\n",
      "Potential Suicide Post\n"
     ]
    }
   ],
   "source": [
    "\n",
    "# twt = [\"Through these past years thoughts of suicide, fear, anxiety I'm so close to my limit\"]\n",
    "# twt = [\"I quit\"]\n",
    "twt = [\"I'm so tired of everything, I don't see the point anymore.\"]\n",
    "twt = token_form.texts_to_sequences(twt)\n",
    "twt = pad_sequences(twt, maxlen=100)\n",
    "\n",
    "\n",
    "prediction = model_form.predict(twt)[0][0]\n",
    "print(prediction)\n",
    "\n",
    "if(prediction > 0.5):\n",
    "    print(\"Potential Suicide Post\")\n",
    "elif (prediction == 1):\n",
    "    print(\"Non Suicide Post\")"
   ]
  },
  {
   "cell_type": "code",
   "execution_count": null,
   "id": "3f357686",
   "metadata": {
    "papermill": {
     "duration": 0.217305,
     "end_time": "2024-08-18T12:04:22.704412",
     "exception": false,
     "start_time": "2024-08-18T12:04:22.487107",
     "status": "completed"
    },
    "tags": []
   },
   "outputs": [],
   "source": []
  }
 ],
 "metadata": {
  "kaggle": {
   "accelerator": "gpu",
   "dataSources": [
    {
     "datasetId": 167266,
     "sourceId": 380554,
     "sourceType": "datasetVersion"
    },
    {
     "datasetId": 870709,
     "sourceId": 1483651,
     "sourceType": "datasetVersion"
    },
    {
     "datasetId": 1075326,
     "sourceId": 2250642,
     "sourceType": "datasetVersion"
    }
   ],
   "isGpuEnabled": true,
   "isInternetEnabled": true,
   "language": "python",
   "sourceType": "notebook"
  },
  "kernelspec": {
   "display_name": "Python 3",
   "language": "python",
   "name": "python3"
  },
  "language_info": {
   "codemirror_mode": {
    "name": "ipython",
    "version": 3
   },
   "file_extension": ".py",
   "mimetype": "text/x-python",
   "name": "python",
   "nbconvert_exporter": "python",
   "pygments_lexer": "ipython3",
   "version": "3.10.13"
  },
  "papermill": {
   "default_parameters": {},
   "duration": 282.223516,
   "end_time": "2024-08-18T12:04:25.845073",
   "environment_variables": {},
   "exception": null,
   "input_path": "__notebook__.ipynb",
   "output_path": "__notebook__.ipynb",
   "parameters": {},
   "start_time": "2024-08-18T11:59:43.621557",
   "version": "2.5.0"
  }
 },
 "nbformat": 4,
 "nbformat_minor": 5
}
